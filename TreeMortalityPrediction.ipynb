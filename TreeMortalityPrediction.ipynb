{
 "cells": [
  {
   "cell_type": "markdown",
   "id": "adjacent-heater",
   "metadata": {},
   "source": [
    "### Tree mortality prediction based on growth patterns\n",
    "\n",
    "data: [HF213](https://harvardforest1.fas.harvard.edu/exist/apps/datasets/showData.html?id=HF213)\n",
    "\n",
    "Use classification algorithms to predict A(live) or D(ead) labels in __mortality13__ and __mortality14__ columns using these features:  \n",
    " - spp: USDA Plants database species code  \n",
    " - dbh09: diameter at Breast Height (1.4m) in year 2009 (unit: centimeter / missing value: NA)  \n",
    " - dbh11: diameter at Breast Height (1.4m) in year 2011 (unit: centimeter / missing value: NA)  \n",
    " - dbh12: diameter at Breast Height (1.4m) in year 2012 (unit: centimeter / missing value: NA)  \n",
    " - dbh13: diameter at Breast Height (1.4m) in year 2013 (unit: centimeter / missing value: NA)  \n",
    "   \n",
    "   \n",
    "   \n",
    "   \n",
    "##### Tree mortality prediction based on growth patterns using Machine Learning\n",
    "Forests are critically important for biodiversity and provide important health and economic benefits. Forests' response to climate change is however not very well understood. This project addresses the importance of tree growth rate for understanding and predicting tree mortality rates. It is hypothesized that trees' growth patterns across multiple species may have subtle changes when trees are under stress and that growth changes over time can be used as an early predictor for tree mortality. For tree growth we use Diameter at Breast Height (dbh) measurements collected 4, 2, 1 and 0 (during the year of tree death) years previous to tree death. For modelling, we trained data driven machine learning models for mortality prediction using data classification. Our results show that simple growth measurements can be used to predict mortality with a reasonable performance (>.65 Area under ROC curve on test data ).  Further studies should use larger datasets to see if the models’ accuracy can be increased. Mortality prediction models can further be used to understand which species are most likely to exhibit change in growth patterns under stress, as well as understand how early the changes appear before death."
   ]
  },
  {
   "cell_type": "code",
   "execution_count": 1,
   "id": "induced-lincoln",
   "metadata": {},
   "outputs": [],
   "source": [
    "from IPython.core.interactiveshell import InteractiveShell\n",
    "InteractiveShell.ast_node_interactivity = \"all\""
   ]
  },
  {
   "cell_type": "code",
   "execution_count": 2,
   "id": "beginning-treasure",
   "metadata": {},
   "outputs": [],
   "source": [
    "import sys, os, pathlib, shutil, platform\n",
    "import pandas as pd\n",
    "import numpy as np\n",
    "import matplotlib.pyplot as plt\n",
    "\n",
    "from sklearn.linear_model import LogisticRegression\n",
    "from sklearn.neighbors import KNeighborsClassifier\n",
    "from sklearn import svm\n",
    "from sklearn.ensemble import RandomForestClassifier\n",
    "\n",
    "\n",
    "from sklearn.metrics import (\n",
    "    classification_report,\n",
    "    confusion_matrix,\n",
    "    accuracy_score,\n",
    "    roc_auc_score,\n",
    "    roc_curve,\n",
    "    auc,\n",
    ")\n",
    "from sklearn.model_selection import train_test_split, StratifiedShuffleSplit\n",
    "from sklearn.preprocessing import OrdinalEncoder\n",
    "\n",
    "from sklearn.compose import make_column_transformer\n",
    "from sklearn.impute import SimpleImputer\n",
    "from sklearn.pipeline import make_pipeline\n",
    "from sklearn.preprocessing import OneHotEncoder\n",
    "from sklearn.preprocessing import OrdinalEncoder\n",
    "from sklearn.preprocessing import StandardScaler\n"
   ]
  },
  {
   "cell_type": "code",
   "execution_count": 3,
   "id": "impressive-negative",
   "metadata": {},
   "outputs": [],
   "source": [
    "MINIMUM_COUNT = 10\n",
    "TRAIN_DATA = 0.6"
   ]
  },
  {
   "cell_type": "code",
   "execution_count": 4,
   "id": "disciplinary-belfast",
   "metadata": {},
   "outputs": [],
   "source": [
    "# !/opt/conda/bin/conda install -c anaconda seaborn pandas scikit-learn -y \n"
   ]
  },
  {
   "cell_type": "code",
   "execution_count": 5,
   "id": "paperback-selling",
   "metadata": {},
   "outputs": [],
   "source": [
    "%matplotlib inline"
   ]
  },
  {
   "cell_type": "code",
   "execution_count": 6,
   "id": "affiliated-thumb",
   "metadata": {},
   "outputs": [],
   "source": [
    "# !pwd\n",
    "# !ls -la ./../data/hrvardf/HF213"
   ]
  },
  {
   "cell_type": "code",
   "execution_count": 7,
   "id": "monthly-myanmar",
   "metadata": {},
   "outputs": [],
   "source": [
    "dataFileName='hf213-01-hf-inventory.csv'\n",
    "dataPathFull= pathlib.Path('./../data/hrvardf/HF213') / dataFileName\n",
    "myData = pd.read_csv(str(dataPathFull)) "
   ]
  },
  {
   "cell_type": "code",
   "execution_count": 8,
   "id": "handled-failure",
   "metadata": {},
   "outputs": [
    {
     "data": {
      "text/plain": [
       "(772, 27)"
      ]
     },
     "execution_count": 8,
     "metadata": {},
     "output_type": "execute_result"
    },
    {
     "data": {
      "text/html": [
       "<div>\n",
       "<style scoped>\n",
       "    .dataframe tbody tr th:only-of-type {\n",
       "        vertical-align: middle;\n",
       "    }\n",
       "\n",
       "    .dataframe tbody tr th {\n",
       "        vertical-align: top;\n",
       "    }\n",
       "\n",
       "    .dataframe thead th {\n",
       "        text-align: right;\n",
       "    }\n",
       "</style>\n",
       "<table border=\"1\" class=\"dataframe\">\n",
       "  <thead>\n",
       "    <tr style=\"text-align: right;\">\n",
       "      <th></th>\n",
       "      <th>site</th>\n",
       "      <th>plot</th>\n",
       "      <th>sub</th>\n",
       "      <th>tag</th>\n",
       "      <th>num</th>\n",
       "      <th>spp</th>\n",
       "      <th>x</th>\n",
       "      <th>y</th>\n",
       "      <th>dbh09</th>\n",
       "      <th>field.notes09</th>\n",
       "      <th>...</th>\n",
       "      <th>dbh13</th>\n",
       "      <th>mortality13</th>\n",
       "      <th>dmg13</th>\n",
       "      <th>field.notes13</th>\n",
       "      <th>date13</th>\n",
       "      <th>dbh14</th>\n",
       "      <th>mortality14</th>\n",
       "      <th>dmg14</th>\n",
       "      <th>field.notes14</th>\n",
       "      <th>date14</th>\n",
       "    </tr>\n",
       "  </thead>\n",
       "  <tbody>\n",
       "    <tr>\n",
       "      <th>0</th>\n",
       "      <td>H</td>\n",
       "      <td>1</td>\n",
       "      <td>A</td>\n",
       "      <td>1634.0</td>\n",
       "      <td>1</td>\n",
       "      <td>ACRU</td>\n",
       "      <td>0.9</td>\n",
       "      <td>2.0</td>\n",
       "      <td>13.85</td>\n",
       "      <td>NaN</td>\n",
       "      <td>...</td>\n",
       "      <td>14.3</td>\n",
       "      <td>A</td>\n",
       "      <td>NaN</td>\n",
       "      <td>NaN</td>\n",
       "      <td>2013-09-06</td>\n",
       "      <td>14.3</td>\n",
       "      <td>A</td>\n",
       "      <td>NaN</td>\n",
       "      <td>measure on bump @DBH</td>\n",
       "      <td>2014-07-31</td>\n",
       "    </tr>\n",
       "    <tr>\n",
       "      <th>1</th>\n",
       "      <td>H</td>\n",
       "      <td>1</td>\n",
       "      <td>A</td>\n",
       "      <td>1634.0</td>\n",
       "      <td>2</td>\n",
       "      <td>ACRU</td>\n",
       "      <td>0.9</td>\n",
       "      <td>2.0</td>\n",
       "      <td>7.50</td>\n",
       "      <td>NaN</td>\n",
       "      <td>...</td>\n",
       "      <td>7.8</td>\n",
       "      <td>A</td>\n",
       "      <td>NaN</td>\n",
       "      <td>NaN</td>\n",
       "      <td>2013-09-06</td>\n",
       "      <td>7.8</td>\n",
       "      <td>A</td>\n",
       "      <td>NaN</td>\n",
       "      <td>NaN</td>\n",
       "      <td>2014-07-31</td>\n",
       "    </tr>\n",
       "  </tbody>\n",
       "</table>\n",
       "<p>2 rows × 27 columns</p>\n",
       "</div>"
      ],
      "text/plain": [
       "  site  plot sub     tag  num   spp    x    y  dbh09 field.notes09  ... dbh13  \\\n",
       "0    H     1   A  1634.0    1  ACRU  0.9  2.0  13.85           NaN  ...  14.3   \n",
       "1    H     1   A  1634.0    2  ACRU  0.9  2.0   7.50           NaN  ...   7.8   \n",
       "\n",
       "   mortality13 dmg13 field.notes13      date13 dbh14 mortality14  dmg14  \\\n",
       "0            A   NaN           NaN  2013-09-06  14.3           A    NaN   \n",
       "1            A   NaN           NaN  2013-09-06   7.8           A    NaN   \n",
       "\n",
       "          field.notes14      date14  \n",
       "0  measure on bump @DBH  2014-07-31  \n",
       "1                   NaN  2014-07-31  \n",
       "\n",
       "[2 rows x 27 columns]"
      ]
     },
     "execution_count": 8,
     "metadata": {},
     "output_type": "execute_result"
    },
    {
     "data": {
      "text/html": [
       "<div>\n",
       "<style scoped>\n",
       "    .dataframe tbody tr th:only-of-type {\n",
       "        vertical-align: middle;\n",
       "    }\n",
       "\n",
       "    .dataframe tbody tr th {\n",
       "        vertical-align: top;\n",
       "    }\n",
       "\n",
       "    .dataframe thead th {\n",
       "        text-align: right;\n",
       "    }\n",
       "</style>\n",
       "<table border=\"1\" class=\"dataframe\">\n",
       "  <thead>\n",
       "    <tr style=\"text-align: right;\">\n",
       "      <th></th>\n",
       "      <th>site</th>\n",
       "      <th>plot</th>\n",
       "      <th>sub</th>\n",
       "      <th>tag</th>\n",
       "      <th>num</th>\n",
       "      <th>spp</th>\n",
       "      <th>x</th>\n",
       "      <th>y</th>\n",
       "      <th>dbh09</th>\n",
       "      <th>field.notes09</th>\n",
       "      <th>...</th>\n",
       "      <th>dbh13</th>\n",
       "      <th>mortality13</th>\n",
       "      <th>dmg13</th>\n",
       "      <th>field.notes13</th>\n",
       "      <th>date13</th>\n",
       "      <th>dbh14</th>\n",
       "      <th>mortality14</th>\n",
       "      <th>dmg14</th>\n",
       "      <th>field.notes14</th>\n",
       "      <th>date14</th>\n",
       "    </tr>\n",
       "  </thead>\n",
       "  <tbody>\n",
       "    <tr>\n",
       "      <th>770</th>\n",
       "      <td>H</td>\n",
       "      <td>8</td>\n",
       "      <td>D</td>\n",
       "      <td>549.0</td>\n",
       "      <td>1</td>\n",
       "      <td>ACRU</td>\n",
       "      <td>3.4</td>\n",
       "      <td>14.2</td>\n",
       "      <td>NaN</td>\n",
       "      <td>NaN</td>\n",
       "      <td>...</td>\n",
       "      <td>14.0</td>\n",
       "      <td>A</td>\n",
       "      <td>NaN</td>\n",
       "      <td>NaN</td>\n",
       "      <td>2013-09-04</td>\n",
       "      <td>14.0</td>\n",
       "      <td>A</td>\n",
       "      <td>NaN</td>\n",
       "      <td>NaN</td>\n",
       "      <td>2014-08-03</td>\n",
       "    </tr>\n",
       "    <tr>\n",
       "      <th>771</th>\n",
       "      <td>H</td>\n",
       "      <td>8</td>\n",
       "      <td>D</td>\n",
       "      <td>550.0</td>\n",
       "      <td>1</td>\n",
       "      <td>PIST</td>\n",
       "      <td>4.1</td>\n",
       "      <td>11.8</td>\n",
       "      <td>NaN</td>\n",
       "      <td>NaN</td>\n",
       "      <td>...</td>\n",
       "      <td>11.8</td>\n",
       "      <td>IBS</td>\n",
       "      <td>S</td>\n",
       "      <td>S @ 4m; surviving branch growing horizontal</td>\n",
       "      <td>2013-09-04</td>\n",
       "      <td>11.8</td>\n",
       "      <td>D</td>\n",
       "      <td>NaN</td>\n",
       "      <td>NaN</td>\n",
       "      <td>2014-08-03</td>\n",
       "    </tr>\n",
       "  </tbody>\n",
       "</table>\n",
       "<p>2 rows × 27 columns</p>\n",
       "</div>"
      ],
      "text/plain": [
       "    site  plot sub    tag  num   spp    x     y  dbh09 field.notes09  ...  \\\n",
       "770    H     8   D  549.0    1  ACRU  3.4  14.2    NaN           NaN  ...   \n",
       "771    H     8   D  550.0    1  PIST  4.1  11.8    NaN           NaN  ...   \n",
       "\n",
       "    dbh13  mortality13 dmg13                                field.notes13  \\\n",
       "770  14.0            A   NaN                                          NaN   \n",
       "771  11.8          IBS     S  S @ 4m; surviving branch growing horizontal   \n",
       "\n",
       "         date13 dbh14 mortality14  dmg14 field.notes14      date14  \n",
       "770  2013-09-04  14.0           A    NaN           NaN  2014-08-03  \n",
       "771  2013-09-04  11.8           D    NaN           NaN  2014-08-03  \n",
       "\n",
       "[2 rows x 27 columns]"
      ]
     },
     "execution_count": 8,
     "metadata": {},
     "output_type": "execute_result"
    }
   ],
   "source": [
    "myData.shape\n",
    "myData.head(2)\n",
    "myData.tail(2)"
   ]
  },
  {
   "cell_type": "code",
   "execution_count": 9,
   "id": "liked-framework",
   "metadata": {},
   "outputs": [
    {
     "name": "stdout",
     "output_type": "stream",
     "text": [
      "<class 'pandas.core.frame.DataFrame'>\n",
      "RangeIndex: 772 entries, 0 to 771\n",
      "Data columns (total 27 columns):\n",
      " #   Column         Non-Null Count  Dtype  \n",
      "---  ------         --------------  -----  \n",
      " 0   site           772 non-null    object \n",
      " 1   plot           772 non-null    int64  \n",
      " 2   sub            772 non-null    object \n",
      " 3   tag            772 non-null    float64\n",
      " 4   num            772 non-null    int64  \n",
      " 5   spp            772 non-null    object \n",
      " 6   x              772 non-null    float64\n",
      " 7   y              772 non-null    float64\n",
      " 8   dbh09          208 non-null    float64\n",
      " 9   field.notes09  29 non-null     object \n",
      " 10  date09         208 non-null    object \n",
      " 11  dbh11          601 non-null    float64\n",
      " 12  field.notes11  80 non-null     object \n",
      " 13  date11         603 non-null    object \n",
      " 14  dbh12          763 non-null    float64\n",
      " 15  field.notes12  132 non-null    object \n",
      " 16  date12         763 non-null    object \n",
      " 17  dbh13          673 non-null    float64\n",
      " 18  mortality13    674 non-null    object \n",
      " 19  dmg13          214 non-null    object \n",
      " 20  field.notes13  225 non-null    object \n",
      " 21  date13         766 non-null    object \n",
      " 22  dbh14          767 non-null    float64\n",
      " 23  mortality14    771 non-null    object \n",
      " 24  dmg14          134 non-null    object \n",
      " 25  field.notes14  316 non-null    object \n",
      " 26  date14         772 non-null    object \n",
      "dtypes: float64(8), int64(2), object(17)\n",
      "memory usage: 163.0+ KB\n"
     ]
    }
   ],
   "source": [
    "myData.info()"
   ]
  },
  {
   "cell_type": "code",
   "execution_count": 10,
   "id": "proved-welding",
   "metadata": {},
   "outputs": [
    {
     "data": {
      "text/html": [
       "<div>\n",
       "<style scoped>\n",
       "    .dataframe tbody tr th:only-of-type {\n",
       "        vertical-align: middle;\n",
       "    }\n",
       "\n",
       "    .dataframe tbody tr th {\n",
       "        vertical-align: top;\n",
       "    }\n",
       "\n",
       "    .dataframe thead th {\n",
       "        text-align: right;\n",
       "    }\n",
       "</style>\n",
       "<table border=\"1\" class=\"dataframe\">\n",
       "  <thead>\n",
       "    <tr style=\"text-align: right;\">\n",
       "      <th></th>\n",
       "      <th>plot</th>\n",
       "      <th>tag</th>\n",
       "      <th>num</th>\n",
       "      <th>x</th>\n",
       "      <th>y</th>\n",
       "      <th>dbh09</th>\n",
       "      <th>dbh11</th>\n",
       "      <th>dbh12</th>\n",
       "      <th>dbh13</th>\n",
       "      <th>dbh14</th>\n",
       "    </tr>\n",
       "  </thead>\n",
       "  <tbody>\n",
       "    <tr>\n",
       "      <th>count</th>\n",
       "      <td>772.000000</td>\n",
       "      <td>772.000000</td>\n",
       "      <td>772.000000</td>\n",
       "      <td>772.000000</td>\n",
       "      <td>772.000000</td>\n",
       "      <td>208.000000</td>\n",
       "      <td>601.000000</td>\n",
       "      <td>763.000000</td>\n",
       "      <td>673.000000</td>\n",
       "      <td>767.000000</td>\n",
       "    </tr>\n",
       "    <tr>\n",
       "      <th>mean</th>\n",
       "      <td>4.405440</td>\n",
       "      <td>1967.688083</td>\n",
       "      <td>1.185233</td>\n",
       "      <td>7.334067</td>\n",
       "      <td>8.084326</td>\n",
       "      <td>16.828365</td>\n",
       "      <td>19.077304</td>\n",
       "      <td>19.179125</td>\n",
       "      <td>19.373626</td>\n",
       "      <td>19.290091</td>\n",
       "    </tr>\n",
       "    <tr>\n",
       "      <th>std</th>\n",
       "      <td>2.337895</td>\n",
       "      <td>2000.706430</td>\n",
       "      <td>0.515029</td>\n",
       "      <td>4.831483</td>\n",
       "      <td>4.565433</td>\n",
       "      <td>11.950456</td>\n",
       "      <td>12.646278</td>\n",
       "      <td>12.245192</td>\n",
       "      <td>12.366258</td>\n",
       "      <td>12.359763</td>\n",
       "    </tr>\n",
       "    <tr>\n",
       "      <th>min</th>\n",
       "      <td>1.000000</td>\n",
       "      <td>349.000000</td>\n",
       "      <td>1.000000</td>\n",
       "      <td>-13.500000</td>\n",
       "      <td>0.000000</td>\n",
       "      <td>2.200000</td>\n",
       "      <td>0.400000</td>\n",
       "      <td>0.595000</td>\n",
       "      <td>0.600000</td>\n",
       "      <td>0.400000</td>\n",
       "    </tr>\n",
       "    <tr>\n",
       "      <th>25%</th>\n",
       "      <td>2.000000</td>\n",
       "      <td>599.750000</td>\n",
       "      <td>1.000000</td>\n",
       "      <td>3.700000</td>\n",
       "      <td>4.700000</td>\n",
       "      <td>8.687500</td>\n",
       "      <td>10.050000</td>\n",
       "      <td>10.400000</td>\n",
       "      <td>10.350000</td>\n",
       "      <td>10.400000</td>\n",
       "    </tr>\n",
       "    <tr>\n",
       "      <th>50%</th>\n",
       "      <td>4.000000</td>\n",
       "      <td>812.500000</td>\n",
       "      <td>1.000000</td>\n",
       "      <td>7.800000</td>\n",
       "      <td>8.000000</td>\n",
       "      <td>13.775000</td>\n",
       "      <td>15.600000</td>\n",
       "      <td>16.000000</td>\n",
       "      <td>16.300000</td>\n",
       "      <td>16.200000</td>\n",
       "    </tr>\n",
       "    <tr>\n",
       "      <th>75%</th>\n",
       "      <td>6.000000</td>\n",
       "      <td>1742.000000</td>\n",
       "      <td>1.000000</td>\n",
       "      <td>11.000000</td>\n",
       "      <td>11.500000</td>\n",
       "      <td>21.037500</td>\n",
       "      <td>24.700000</td>\n",
       "      <td>25.050000</td>\n",
       "      <td>25.600000</td>\n",
       "      <td>25.300000</td>\n",
       "    </tr>\n",
       "    <tr>\n",
       "      <th>max</th>\n",
       "      <td>8.000000</td>\n",
       "      <td>9367.000000</td>\n",
       "      <td>5.000000</td>\n",
       "      <td>15.000000</td>\n",
       "      <td>59.100000</td>\n",
       "      <td>65.500000</td>\n",
       "      <td>87.000000</td>\n",
       "      <td>85.300000</td>\n",
       "      <td>85.600000</td>\n",
       "      <td>85.900000</td>\n",
       "    </tr>\n",
       "  </tbody>\n",
       "</table>\n",
       "</div>"
      ],
      "text/plain": [
       "             plot          tag         num           x           y  \\\n",
       "count  772.000000   772.000000  772.000000  772.000000  772.000000   \n",
       "mean     4.405440  1967.688083    1.185233    7.334067    8.084326   \n",
       "std      2.337895  2000.706430    0.515029    4.831483    4.565433   \n",
       "min      1.000000   349.000000    1.000000  -13.500000    0.000000   \n",
       "25%      2.000000   599.750000    1.000000    3.700000    4.700000   \n",
       "50%      4.000000   812.500000    1.000000    7.800000    8.000000   \n",
       "75%      6.000000  1742.000000    1.000000   11.000000   11.500000   \n",
       "max      8.000000  9367.000000    5.000000   15.000000   59.100000   \n",
       "\n",
       "            dbh09       dbh11       dbh12       dbh13       dbh14  \n",
       "count  208.000000  601.000000  763.000000  673.000000  767.000000  \n",
       "mean    16.828365   19.077304   19.179125   19.373626   19.290091  \n",
       "std     11.950456   12.646278   12.245192   12.366258   12.359763  \n",
       "min      2.200000    0.400000    0.595000    0.600000    0.400000  \n",
       "25%      8.687500   10.050000   10.400000   10.350000   10.400000  \n",
       "50%     13.775000   15.600000   16.000000   16.300000   16.200000  \n",
       "75%     21.037500   24.700000   25.050000   25.600000   25.300000  \n",
       "max     65.500000   87.000000   85.300000   85.600000   85.900000  "
      ]
     },
     "execution_count": 10,
     "metadata": {},
     "output_type": "execute_result"
    }
   ],
   "source": [
    "# basic descriptive statistics for numeric columns:\n",
    "myData.describe()"
   ]
  },
  {
   "cell_type": "code",
   "execution_count": 11,
   "id": "comic-whole",
   "metadata": {},
   "outputs": [
    {
     "data": {
      "text/plain": [
       "ACRU     204\n",
       "TSCA     195\n",
       "QURU      98\n",
       "PIST      77\n",
       "BELE      59\n",
       "BEAL2     34\n",
       "FAGR      33\n",
       "BEPA      18\n",
       "PIRU      14\n",
       "QUAL       8\n",
       "ACSA3      8\n",
       "POGR4      6\n",
       "FRAM       4\n",
       "CADE       3\n",
       "PRSE2      3\n",
       "QUVE       2\n",
       "HAVI4      2\n",
       "CATO6      2\n",
       "NYSY       1\n",
       "PIRE       1\n",
       "Name: spp, dtype: int64"
      ]
     },
     "execution_count": 11,
     "metadata": {},
     "output_type": "execute_result"
    },
    {
     "data": {
      "text/plain": [
       "A      566\n",
       "NaN     98\n",
       "IBS     58\n",
       "D       42\n",
       "M        8\n",
       "Name: mortality13, dtype: int64"
      ]
     },
     "execution_count": 11,
     "metadata": {},
     "output_type": "execute_result"
    },
    {
     "data": {
      "text/plain": [
       "NaN         558\n",
       "L           110\n",
       "CD           15\n",
       "DB           12\n",
       "S            10\n",
       "H             8\n",
       "B             8\n",
       "BBD           7\n",
       "L;CD          6\n",
       "TL            3\n",
       "TL;L          3\n",
       "L;BBD         2\n",
       "BBD;CD        2\n",
       "H;L           2\n",
       "B;BBD         2\n",
       "BBD;H;CD      2\n",
       "DB;S          1\n",
       "CD;L;S        1\n",
       "DB;L          1\n",
       "CD;S          1\n",
       "BBD;L         1\n",
       "S;TL          1\n",
       "L;D           1\n",
       "B;H;BBD       1\n",
       "TL;CD         1\n",
       "L;TL          1\n",
       "BBD;B         1\n",
       "L;H;DB        1\n",
       "S;DB          1\n",
       "S;D           1\n",
       "H;DB          1\n",
       "L;DB;S        1\n",
       "HWA           1\n",
       "IBS           1\n",
       "L;DB          1\n",
       "B;TL          1\n",
       "LD            1\n",
       "L;S           1\n",
       "Name: dmg13, dtype: int64"
      ]
     },
     "execution_count": 11,
     "metadata": {},
     "output_type": "execute_result"
    },
    {
     "data": {
      "text/html": [
       "<div>\n",
       "<style scoped>\n",
       "    .dataframe tbody tr th:only-of-type {\n",
       "        vertical-align: middle;\n",
       "    }\n",
       "\n",
       "    .dataframe tbody tr th {\n",
       "        vertical-align: top;\n",
       "    }\n",
       "\n",
       "    .dataframe thead th {\n",
       "        text-align: right;\n",
       "    }\n",
       "</style>\n",
       "<table border=\"1\" class=\"dataframe\">\n",
       "  <thead>\n",
       "    <tr style=\"text-align: right;\">\n",
       "      <th></th>\n",
       "      <th>mortality13</th>\n",
       "      <th>A</th>\n",
       "      <th>D</th>\n",
       "      <th>IBS</th>\n",
       "      <th>M</th>\n",
       "    </tr>\n",
       "    <tr>\n",
       "      <th>spp</th>\n",
       "      <th></th>\n",
       "      <th></th>\n",
       "      <th></th>\n",
       "      <th></th>\n",
       "      <th></th>\n",
       "    </tr>\n",
       "  </thead>\n",
       "  <tbody>\n",
       "    <tr>\n",
       "      <th>ACSA3</th>\n",
       "      <th>dmg13</th>\n",
       "      <td>0</td>\n",
       "      <td>0</td>\n",
       "      <td>L;CD</td>\n",
       "      <td>0</td>\n",
       "    </tr>\n",
       "    <tr>\n",
       "      <th>BEAL2</th>\n",
       "      <th>dmg13</th>\n",
       "      <td>0</td>\n",
       "      <td>0</td>\n",
       "      <td>LCD</td>\n",
       "      <td>0</td>\n",
       "    </tr>\n",
       "    <tr>\n",
       "      <th>BELE</th>\n",
       "      <th>dmg13</th>\n",
       "      <td>0</td>\n",
       "      <td>SDB</td>\n",
       "      <td>0</td>\n",
       "      <td>0</td>\n",
       "    </tr>\n",
       "    <tr>\n",
       "      <th>BEPA</th>\n",
       "      <th>dmg13</th>\n",
       "      <td>0</td>\n",
       "      <td>0</td>\n",
       "      <td>0</td>\n",
       "      <td>0</td>\n",
       "    </tr>\n",
       "    <tr>\n",
       "      <th>CADE</th>\n",
       "      <th>dmg13</th>\n",
       "      <td>0</td>\n",
       "      <td>0</td>\n",
       "      <td>CDCD</td>\n",
       "      <td>0</td>\n",
       "    </tr>\n",
       "    <tr>\n",
       "      <th>CATO6</th>\n",
       "      <th>dmg13</th>\n",
       "      <td>0</td>\n",
       "      <td>0</td>\n",
       "      <td>0</td>\n",
       "      <td>0</td>\n",
       "    </tr>\n",
       "    <tr>\n",
       "      <th>FAGR</th>\n",
       "      <th>dmg13</th>\n",
       "      <td>0</td>\n",
       "      <td>S</td>\n",
       "      <td>BBD;H;CDBBD;H;CDBBD;CDB;H;BBD</td>\n",
       "      <td>B;BBD</td>\n",
       "    </tr>\n",
       "    <tr>\n",
       "      <th>FRAM</th>\n",
       "      <th>dmg13</th>\n",
       "      <td>0</td>\n",
       "      <td>0</td>\n",
       "      <td>L</td>\n",
       "      <td>0</td>\n",
       "    </tr>\n",
       "    <tr>\n",
       "      <th>HAVI4</th>\n",
       "      <th>dmg13</th>\n",
       "      <td>LL</td>\n",
       "      <td>0</td>\n",
       "      <td>0</td>\n",
       "      <td>0</td>\n",
       "    </tr>\n",
       "    <tr>\n",
       "      <th>NYSY</th>\n",
       "      <th>dmg13</th>\n",
       "      <td>0</td>\n",
       "      <td>0</td>\n",
       "      <td>0</td>\n",
       "      <td>0</td>\n",
       "    </tr>\n",
       "    <tr>\n",
       "      <th>PIRE</th>\n",
       "      <th>dmg13</th>\n",
       "      <td>0</td>\n",
       "      <td>0</td>\n",
       "      <td>0</td>\n",
       "      <td>0</td>\n",
       "    </tr>\n",
       "    <tr>\n",
       "      <th>PIRU</th>\n",
       "      <th>dmg13</th>\n",
       "      <td>0</td>\n",
       "      <td>0</td>\n",
       "      <td>0</td>\n",
       "      <td>0</td>\n",
       "    </tr>\n",
       "    <tr>\n",
       "      <th>POGR4</th>\n",
       "      <th>dmg13</th>\n",
       "      <td>0</td>\n",
       "      <td>0</td>\n",
       "      <td>H</td>\n",
       "      <td>0</td>\n",
       "    </tr>\n",
       "    <tr>\n",
       "      <th>PRSE2</th>\n",
       "      <th>dmg13</th>\n",
       "      <td>L;DB</td>\n",
       "      <td>0</td>\n",
       "      <td>0</td>\n",
       "      <td>0</td>\n",
       "    </tr>\n",
       "    <tr>\n",
       "      <th>QUAL</th>\n",
       "      <th>dmg13</th>\n",
       "      <td>0</td>\n",
       "      <td>0</td>\n",
       "      <td>L;CD</td>\n",
       "      <td>0</td>\n",
       "    </tr>\n",
       "    <tr>\n",
       "      <th>QURU</th>\n",
       "      <th>dmg13</th>\n",
       "      <td>0</td>\n",
       "      <td>0</td>\n",
       "      <td>CDL;CDDB;LL;CDCD</td>\n",
       "      <td>CD</td>\n",
       "    </tr>\n",
       "    <tr>\n",
       "      <th>QUVE</th>\n",
       "      <th>dmg13</th>\n",
       "      <td>0</td>\n",
       "      <td>0</td>\n",
       "      <td>L;CD</td>\n",
       "      <td>0</td>\n",
       "    </tr>\n",
       "  </tbody>\n",
       "</table>\n",
       "</div>"
      ],
      "text/plain": [
       "mortality13     A    D                            IBS      M\n",
       "spp                                                         \n",
       "ACSA3 dmg13     0    0                           L;CD      0\n",
       "BEAL2 dmg13     0    0                            LCD      0\n",
       "BELE  dmg13     0  SDB                              0      0\n",
       "BEPA  dmg13     0    0                              0      0\n",
       "CADE  dmg13     0    0                           CDCD      0\n",
       "CATO6 dmg13     0    0                              0      0\n",
       "FAGR  dmg13     0    S  BBD;H;CDBBD;H;CDBBD;CDB;H;BBD  B;BBD\n",
       "FRAM  dmg13     0    0                              L      0\n",
       "HAVI4 dmg13    LL    0                              0      0\n",
       "NYSY  dmg13     0    0                              0      0\n",
       "PIRE  dmg13     0    0                              0      0\n",
       "PIRU  dmg13     0    0                              0      0\n",
       "POGR4 dmg13     0    0                              H      0\n",
       "PRSE2 dmg13  L;DB    0                              0      0\n",
       "QUAL  dmg13     0    0                           L;CD      0\n",
       "QURU  dmg13     0    0               CDL;CDDB;LL;CDCD     CD\n",
       "QUVE  dmg13     0    0                           L;CD      0"
      ]
     },
     "execution_count": 11,
     "metadata": {},
     "output_type": "execute_result"
    }
   ],
   "source": [
    "# myData.groupby('spp').size()\n",
    "myCols = ['spp', 'mortality13', 'dmg13']\n",
    "myData[myCols[0]].value_counts(dropna=False) \n",
    "myData[myCols[1]].value_counts(dropna=False)\n",
    "myData[myCols[2]].value_counts(dropna=False)\n",
    "myData.pivot_table(index = [myCols[0]]\n",
    "                   , columns = myCols[1]\n",
    "                   , values =  myCols[2]\n",
    "                   , aggfunc=np.sum, fill_value=0)\n",
    "          \n"
   ]
  },
  {
   "cell_type": "code",
   "execution_count": 12,
   "id": "organic-bobby",
   "metadata": {},
   "outputs": [
    {
     "data": {
      "text/plain": [
       "<AxesSubplot:xlabel='spp', ylabel='count'>"
      ]
     },
     "execution_count": 12,
     "metadata": {},
     "output_type": "execute_result"
    },
    {
     "data": {
      "image/png": "[encoded data removed]",
      "text/plain": [
       "<Figure size 432x288 with 1 Axes>"
      ]
     },
     "metadata": {
      "needs_background": "light"
     },
     "output_type": "display_data"
    }
   ],
   "source": [
    "import seaborn as sns\n",
    "sns.countplot(x= myData['spp'],label=\"spp Count\")\n",
    "plt.show()"
   ]
  },
  {
   "cell_type": "code",
   "execution_count": 13,
   "id": "assured-staff",
   "metadata": {},
   "outputs": [
    {
     "data": {
      "text/plain": [
       "ACRU     204\n",
       "TSCA     195\n",
       "QURU      98\n",
       "PIST      77\n",
       "BELE      59\n",
       "BEAL2     34\n",
       "FAGR      33\n",
       "BEPA      18\n",
       "PIRU      14\n",
       "QUAL       8\n",
       "ACSA3      8\n",
       "POGR4      6\n",
       "FRAM       4\n",
       "CADE       3\n",
       "PRSE2      3\n",
       "QUVE       2\n",
       "HAVI4      2\n",
       "CATO6      2\n",
       "NYSY       1\n",
       "PIRE       1\n",
       "Name: spp, dtype: int64"
      ]
     },
     "execution_count": 13,
     "metadata": {},
     "output_type": "execute_result"
    },
    {
     "data": {
      "text/plain": [
       "['QUAL',\n",
       " 'ACSA3',\n",
       " 'POGR4',\n",
       " 'FRAM',\n",
       " 'CADE',\n",
       " 'PRSE2',\n",
       " 'QUVE',\n",
       " 'HAVI4',\n",
       " 'CATO6',\n",
       " 'NYSY',\n",
       " 'PIRE']"
      ]
     },
     "execution_count": 13,
     "metadata": {},
     "output_type": "execute_result"
    }
   ],
   "source": [
    "myData['spp'].value_counts(dropna=False) \n",
    "removeSPP = myData['spp'].value_counts(dropna=False).loc[lambda x : x<MINIMUM_COUNT].index.tolist()\n",
    "removeSPP\n",
    "\n",
    "# filteredData = myData.replace(dict.fromkeys(removeSPP, 'TooFew'))\n",
    "# filteredData['spp'].value_counts(dropna=False)"
   ]
  },
  {
   "cell_type": "code",
   "execution_count": 14,
   "id": "embedded-hierarchy",
   "metadata": {},
   "outputs": [],
   "source": [
    "featureColumn_01=['spp', 'dbh09', 'dbh11', 'dbh12']\n",
    "# featureColumn_01=[ 'dbh09', 'dbh11', 'dbh12']\n",
    "labelColumn_01 = 'mortality13'\n",
    "featureColumn_02=['spp', 'dbh09', 'dbh11', 'dbh12', 'dbh13']\n",
    "# featureColumn_02=['dbh09', 'dbh11', 'dbh12', 'dbh13']\n",
    "labelColumn_02 = 'mortality14' \n",
    "\n",
    "labelColumn = labelColumn_02\n",
    "featureColumn = featureColumn_02"
   ]
  },
  {
   "cell_type": "code",
   "execution_count": 15,
   "id": "uniform-house",
   "metadata": {},
   "outputs": [
    {
     "data": {
      "text/plain": [
       "['dbh09', 'dbh11', 'dbh12', 'dbh13', 'mortality14', 'spp']"
      ]
     },
     "execution_count": 15,
     "metadata": {},
     "output_type": "execute_result"
    }
   ],
   "source": [
    "sorted(set(featureColumn+[labelColumn]))"
   ]
  },
  {
   "cell_type": "code",
   "execution_count": 16,
   "id": "supported-merchant",
   "metadata": {},
   "outputs": [
    {
     "data": {
      "text/plain": [
       "(772, 6)"
      ]
     },
     "execution_count": 16,
     "metadata": {},
     "output_type": "execute_result"
    },
    {
     "data": {
      "text/html": [
       "<div>\n",
       "<style scoped>\n",
       "    .dataframe tbody tr th:only-of-type {\n",
       "        vertical-align: middle;\n",
       "    }\n",
       "\n",
       "    .dataframe tbody tr th {\n",
       "        vertical-align: top;\n",
       "    }\n",
       "\n",
       "    .dataframe thead th {\n",
       "        text-align: right;\n",
       "    }\n",
       "</style>\n",
       "<table border=\"1\" class=\"dataframe\">\n",
       "  <thead>\n",
       "    <tr style=\"text-align: right;\">\n",
       "      <th></th>\n",
       "      <th>dbh09</th>\n",
       "      <th>dbh11</th>\n",
       "      <th>dbh12</th>\n",
       "      <th>dbh13</th>\n",
       "      <th>mortality14</th>\n",
       "      <th>spp</th>\n",
       "    </tr>\n",
       "  </thead>\n",
       "  <tbody>\n",
       "    <tr>\n",
       "      <th>0</th>\n",
       "      <td>13.85</td>\n",
       "      <td>14.3</td>\n",
       "      <td>14.1</td>\n",
       "      <td>14.30</td>\n",
       "      <td>A</td>\n",
       "      <td>ACRU</td>\n",
       "    </tr>\n",
       "    <tr>\n",
       "      <th>1</th>\n",
       "      <td>7.50</td>\n",
       "      <td>7.9</td>\n",
       "      <td>7.8</td>\n",
       "      <td>7.80</td>\n",
       "      <td>A</td>\n",
       "      <td>ACRU</td>\n",
       "    </tr>\n",
       "    <tr>\n",
       "      <th>2</th>\n",
       "      <td>6.15</td>\n",
       "      <td>6.3</td>\n",
       "      <td>6.3</td>\n",
       "      <td>6.30</td>\n",
       "      <td>A</td>\n",
       "      <td>BELE</td>\n",
       "    </tr>\n",
       "    <tr>\n",
       "      <th>3</th>\n",
       "      <td>21.30</td>\n",
       "      <td>22.3</td>\n",
       "      <td>22.6</td>\n",
       "      <td>23.20</td>\n",
       "      <td>A</td>\n",
       "      <td>BELE</td>\n",
       "    </tr>\n",
       "    <tr>\n",
       "      <th>4</th>\n",
       "      <td>17.10</td>\n",
       "      <td>17.3</td>\n",
       "      <td>17.3</td>\n",
       "      <td>17.25</td>\n",
       "      <td>A</td>\n",
       "      <td>BEPA</td>\n",
       "    </tr>\n",
       "  </tbody>\n",
       "</table>\n",
       "</div>"
      ],
      "text/plain": [
       "   dbh09  dbh11  dbh12  dbh13 mortality14   spp\n",
       "0  13.85   14.3   14.1  14.30           A  ACRU\n",
       "1   7.50    7.9    7.8   7.80           A  ACRU\n",
       "2   6.15    6.3    6.3   6.30           A  BELE\n",
       "3  21.30   22.3   22.6  23.20           A  BELE\n",
       "4  17.10   17.3   17.3  17.25           A  BEPA"
      ]
     },
     "execution_count": 16,
     "metadata": {},
     "output_type": "execute_result"
    },
    {
     "data": {
      "text/plain": [
       "A      599\n",
       "IBS    114\n",
       "D       57\n",
       "M        1\n",
       "NaN      1\n",
       "Name: mortality14, dtype: int64"
      ]
     },
     "execution_count": 16,
     "metadata": {},
     "output_type": "execute_result"
    }
   ],
   "source": [
    "filteredData = myData\n",
    "filteredDataML = filteredData[sorted(set(featureColumn+[labelColumn]))]\n",
    "\n",
    "filteredDataML.shape\n",
    "filteredDataML.head()\n",
    "filteredDataML[labelColumn].value_counts(dropna=False)"
   ]
  },
  {
   "cell_type": "code",
   "execution_count": 17,
   "id": "satisfied-discount",
   "metadata": {},
   "outputs": [
    {
     "data": {
      "text/plain": [
       "A      599\n",
       "IBS    114\n",
       "D       57\n",
       "M        1\n",
       "NaN      1\n",
       "Name: mortality14, dtype: int64"
      ]
     },
     "execution_count": 17,
     "metadata": {},
     "output_type": "execute_result"
    },
    {
     "data": {
      "text/plain": [
       "(656, 6)"
      ]
     },
     "execution_count": 17,
     "metadata": {},
     "output_type": "execute_result"
    },
    {
     "data": {
      "text/html": [
       "<div>\n",
       "<style scoped>\n",
       "    .dataframe tbody tr th:only-of-type {\n",
       "        vertical-align: middle;\n",
       "    }\n",
       "\n",
       "    .dataframe tbody tr th {\n",
       "        vertical-align: top;\n",
       "    }\n",
       "\n",
       "    .dataframe thead th {\n",
       "        text-align: right;\n",
       "    }\n",
       "</style>\n",
       "<table border=\"1\" class=\"dataframe\">\n",
       "  <thead>\n",
       "    <tr style=\"text-align: right;\">\n",
       "      <th></th>\n",
       "      <th>dbh09</th>\n",
       "      <th>dbh11</th>\n",
       "      <th>dbh12</th>\n",
       "      <th>dbh13</th>\n",
       "      <th>mortality14</th>\n",
       "      <th>spp</th>\n",
       "    </tr>\n",
       "  </thead>\n",
       "  <tbody>\n",
       "    <tr>\n",
       "      <th>0</th>\n",
       "      <td>13.85</td>\n",
       "      <td>14.3</td>\n",
       "      <td>14.1</td>\n",
       "      <td>14.30</td>\n",
       "      <td>A</td>\n",
       "      <td>ACRU</td>\n",
       "    </tr>\n",
       "    <tr>\n",
       "      <th>1</th>\n",
       "      <td>7.50</td>\n",
       "      <td>7.9</td>\n",
       "      <td>7.8</td>\n",
       "      <td>7.80</td>\n",
       "      <td>A</td>\n",
       "      <td>ACRU</td>\n",
       "    </tr>\n",
       "    <tr>\n",
       "      <th>2</th>\n",
       "      <td>6.15</td>\n",
       "      <td>6.3</td>\n",
       "      <td>6.3</td>\n",
       "      <td>6.30</td>\n",
       "      <td>A</td>\n",
       "      <td>BELE</td>\n",
       "    </tr>\n",
       "    <tr>\n",
       "      <th>3</th>\n",
       "      <td>21.30</td>\n",
       "      <td>22.3</td>\n",
       "      <td>22.6</td>\n",
       "      <td>23.20</td>\n",
       "      <td>A</td>\n",
       "      <td>BELE</td>\n",
       "    </tr>\n",
       "    <tr>\n",
       "      <th>4</th>\n",
       "      <td>17.10</td>\n",
       "      <td>17.3</td>\n",
       "      <td>17.3</td>\n",
       "      <td>17.25</td>\n",
       "      <td>A</td>\n",
       "      <td>BEPA</td>\n",
       "    </tr>\n",
       "  </tbody>\n",
       "</table>\n",
       "</div>"
      ],
      "text/plain": [
       "   dbh09  dbh11  dbh12  dbh13 mortality14   spp\n",
       "0  13.85   14.3   14.1  14.30           A  ACRU\n",
       "1   7.50    7.9    7.8   7.80           A  ACRU\n",
       "2   6.15    6.3    6.3   6.30           A  BELE\n",
       "3  21.30   22.3   22.6  23.20           A  BELE\n",
       "4  17.10   17.3   17.3  17.25           A  BEPA"
      ]
     },
     "execution_count": 17,
     "metadata": {},
     "output_type": "execute_result"
    },
    {
     "data": {
      "text/plain": [
       "A    599\n",
       "D     57\n",
       "Name: mortality14, dtype: int64"
      ]
     },
     "execution_count": 17,
     "metadata": {},
     "output_type": "execute_result"
    }
   ],
   "source": [
    "filteredDataML[labelColumn].value_counts(dropna=False)\n",
    "\n",
    "filteredDataML = filteredDataML[filteredDataML[labelColumn].isin(['D', 'A'])]\n",
    "filteredDataML.shape\n",
    "filteredDataML.head()\n",
    "\n",
    "\n",
    "filteredDataML[labelColumn].value_counts(dropna=False)"
   ]
  },
  {
   "cell_type": "code",
   "execution_count": 18,
   "id": "fleet-yield",
   "metadata": {},
   "outputs": [
    {
     "data": {
      "text/plain": [
       "Index(['mortality14', 'spp'], dtype='object')"
      ]
     },
     "execution_count": 18,
     "metadata": {},
     "output_type": "execute_result"
    },
    {
     "data": {
      "text/plain": [
       "Index(['dbh09', 'dbh11', 'dbh12', 'dbh13'], dtype='object')"
      ]
     },
     "execution_count": 18,
     "metadata": {},
     "output_type": "execute_result"
    }
   ],
   "source": [
    "# https://scikit-learn.org/stable/auto_examples/ensemble/plot_stack_predictors.html#sphx-glr-auto-examples-ensemble-plot-stack-predictors-py\n",
    "\n",
    "catCols = filteredDataML.columns[filteredDataML.dtypes == 'O']\n",
    "numCols = filteredDataML.columns[filteredDataML.dtypes == 'float64']\n",
    "catCols\n",
    "numCols\n"
   ]
  },
  {
   "cell_type": "code",
   "execution_count": 19,
   "id": "square-constitution",
   "metadata": {},
   "outputs": [
    {
     "data": {
      "text/plain": [
       "393"
      ]
     },
     "execution_count": 19,
     "metadata": {},
     "output_type": "execute_result"
    },
    {
     "data": {
      "text/plain": [
       "263"
      ]
     },
     "execution_count": 19,
     "metadata": {},
     "output_type": "execute_result"
    },
    {
     "data": {
      "text/plain": [
       "(393, 6)"
      ]
     },
     "execution_count": 19,
     "metadata": {},
     "output_type": "execute_result"
    },
    {
     "data": {
      "text/plain": [
       "(393, 6)"
      ]
     },
     "execution_count": 19,
     "metadata": {},
     "output_type": "execute_result"
    },
    {
     "data": {
      "text/plain": [
       "(263, 6)"
      ]
     },
     "execution_count": 19,
     "metadata": {},
     "output_type": "execute_result"
    },
    {
     "data": {
      "text/plain": [
       "157"
      ]
     },
     "execution_count": 19,
     "metadata": {},
     "output_type": "execute_result"
    },
    {
     "data": {
      "text/plain": [
       "106"
      ]
     },
     "execution_count": 19,
     "metadata": {},
     "output_type": "execute_result"
    },
    {
     "data": {
      "text/plain": [
       "(656, 6)"
      ]
     },
     "execution_count": 19,
     "metadata": {},
     "output_type": "execute_result"
    }
   ],
   "source": [
    "stratifySplit = StratifiedShuffleSplit(n_splits=1, train_size=TRAIN_DATA, random_state=1)\n",
    "\n",
    "trainIdx, tstIdx = next(stratifySplit.split(filteredDataML, filteredDataML[labelColumn]))\n",
    "# print(\"\\n Train:\", sorted(trainIdx))\n",
    "len(trainIdx)\n",
    "len(tstIdx)\n",
    "\n",
    "filteredDataML.loc[filteredDataML.index.intersection(filteredDataML.index[trainIdx])].shape\n",
    "filteredDataML[filteredDataML.index.isin(filteredDataML.index[trainIdx])].shape\n",
    "aa=filteredDataML.loc[filteredDataML.index.intersection(filteredDataML.index[tstIdx])]\n",
    "aa.shape\n",
    "stratifySplit = StratifiedShuffleSplit(n_splits=1, train_size=TRAIN_DATA, test_size=1-TRAIN_DATA, random_state=1)\n",
    "testIdx, validationIdx = next(stratifySplit.split(aa,  aa[labelColumn]))\n",
    "\n",
    "len(testIdx)\n",
    "len(validationIdx)\n",
    "filteredDataML.shape\n",
    "\n",
    "# testIdx=tstIdx[testIdx]\n",
    "# validationIdx=tstIdx[validationIdx]\n",
    "\n",
    "# print(\"\\n Test:\", sorted(testIdx))\n",
    "# print(\"\\nValidation:\", sorted(validationIdx))"
   ]
  },
  {
   "cell_type": "code",
   "execution_count": 20,
   "id": "catholic-teddy",
   "metadata": {},
   "outputs": [
    {
     "data": {
      "text/plain": [
       "A    599\n",
       "D     57\n",
       "Name: mortality14, dtype: int64"
      ]
     },
     "execution_count": 20,
     "metadata": {},
     "output_type": "execute_result"
    },
    {
     "data": {
      "text/plain": [
       "A    359\n",
       "D     34\n",
       "Name: mortality14, dtype: int64"
      ]
     },
     "execution_count": 20,
     "metadata": {},
     "output_type": "execute_result"
    },
    {
     "data": {
      "text/plain": [
       "A    143\n",
       "D     14\n",
       "Name: mortality14, dtype: int64"
      ]
     },
     "execution_count": 20,
     "metadata": {},
     "output_type": "execute_result"
    },
    {
     "data": {
      "text/plain": [
       "A    97\n",
       "D     9\n",
       "Name: mortality14, dtype: int64"
      ]
     },
     "execution_count": 20,
     "metadata": {},
     "output_type": "execute_result"
    }
   ],
   "source": [
    "trainData=filteredDataML.loc[filteredDataML.index.intersection(filteredDataML.index[trainIdx]),:]\n",
    "testData=aa.loc[aa.index.intersection(aa.index[testIdx]),:]\n",
    "validationData = aa.loc[aa.index.intersection(aa.index[validationIdx]),:]\n",
    "\n",
    "filteredDataML[labelColumn].value_counts(dropna=False)\n",
    "trainData[labelColumn].value_counts(dropna=False) \n",
    "testData[labelColumn].value_counts(dropna=False) \n",
    "validationData[labelColumn].value_counts(dropna=False) "
   ]
  },
  {
   "cell_type": "code",
   "execution_count": 21,
   "id": "dependent-disaster",
   "metadata": {},
   "outputs": [
    {
     "data": {
      "text/plain": [
       "OrdinalEncoder()"
      ]
     },
     "execution_count": 21,
     "metadata": {},
     "output_type": "execute_result"
    },
    {
     "data": {
      "text/plain": [
       "[array(['A', 'D'], dtype=object),\n",
       " array(['ACRU', 'ACSA3', 'BEAL2', 'BELE', 'BEPA', 'CADE', 'CATO6', 'FAGR',\n",
       "        'FRAM', 'HAVI4', 'NYSY', 'PIRE', 'PIRU', 'PIST', 'POGR4', 'PRSE2',\n",
       "        'QUAL', 'QURU', 'TSCA'], dtype=object)]"
      ]
     },
     "execution_count": 21,
     "metadata": {},
     "output_type": "execute_result"
    },
    {
     "data": {
      "text/html": [
       "<div>\n",
       "<style scoped>\n",
       "    .dataframe tbody tr th:only-of-type {\n",
       "        vertical-align: middle;\n",
       "    }\n",
       "\n",
       "    .dataframe tbody tr th {\n",
       "        vertical-align: top;\n",
       "    }\n",
       "\n",
       "    .dataframe thead th {\n",
       "        text-align: right;\n",
       "    }\n",
       "</style>\n",
       "<table border=\"1\" class=\"dataframe\">\n",
       "  <thead>\n",
       "    <tr style=\"text-align: right;\">\n",
       "      <th></th>\n",
       "      <th>dbh09</th>\n",
       "      <th>dbh11</th>\n",
       "      <th>dbh12</th>\n",
       "      <th>dbh13</th>\n",
       "      <th>mortality14</th>\n",
       "      <th>spp</th>\n",
       "    </tr>\n",
       "  </thead>\n",
       "  <tbody>\n",
       "    <tr>\n",
       "      <th>0</th>\n",
       "      <td>13.85</td>\n",
       "      <td>14.3</td>\n",
       "      <td>14.1</td>\n",
       "      <td>14.30</td>\n",
       "      <td>0.0</td>\n",
       "      <td>0.0</td>\n",
       "    </tr>\n",
       "    <tr>\n",
       "      <th>1</th>\n",
       "      <td>7.50</td>\n",
       "      <td>7.9</td>\n",
       "      <td>7.8</td>\n",
       "      <td>7.80</td>\n",
       "      <td>0.0</td>\n",
       "      <td>0.0</td>\n",
       "    </tr>\n",
       "    <tr>\n",
       "      <th>2</th>\n",
       "      <td>6.15</td>\n",
       "      <td>6.3</td>\n",
       "      <td>6.3</td>\n",
       "      <td>6.30</td>\n",
       "      <td>0.0</td>\n",
       "      <td>3.0</td>\n",
       "    </tr>\n",
       "    <tr>\n",
       "      <th>3</th>\n",
       "      <td>21.30</td>\n",
       "      <td>22.3</td>\n",
       "      <td>22.6</td>\n",
       "      <td>23.20</td>\n",
       "      <td>0.0</td>\n",
       "      <td>3.0</td>\n",
       "    </tr>\n",
       "    <tr>\n",
       "      <th>4</th>\n",
       "      <td>17.10</td>\n",
       "      <td>17.3</td>\n",
       "      <td>17.3</td>\n",
       "      <td>17.25</td>\n",
       "      <td>0.0</td>\n",
       "      <td>4.0</td>\n",
       "    </tr>\n",
       "  </tbody>\n",
       "</table>\n",
       "</div>"
      ],
      "text/plain": [
       "   dbh09  dbh11  dbh12  dbh13  mortality14  spp\n",
       "0  13.85   14.3   14.1  14.30          0.0  0.0\n",
       "1   7.50    7.9    7.8   7.80          0.0  0.0\n",
       "2   6.15    6.3    6.3   6.30          0.0  3.0\n",
       "3  21.30   22.3   22.6  23.20          0.0  3.0\n",
       "4  17.10   17.3   17.3  17.25          0.0  4.0"
      ]
     },
     "execution_count": 21,
     "metadata": {},
     "output_type": "execute_result"
    }
   ],
   "source": [
    "ordinalEncoder = OrdinalEncoder()\n",
    "ordinalEncoder.fit(filteredDataML[catCols])\n",
    "ordinalEncoder.categories_\n",
    "\n",
    "trainData[catCols] = ordinalEncoder.transform(trainData[catCols])\n",
    "testData[catCols] = ordinalEncoder.transform(testData[catCols])\n",
    "validationData[catCols] = ordinalEncoder.transform(validationData[catCols])\n",
    "\n",
    "trainData.head()"
   ]
  },
  {
   "cell_type": "code",
   "execution_count": 22,
   "id": "driving-amendment",
   "metadata": {},
   "outputs": [
    {
     "data": {
      "text/plain": [
       "SimpleImputer(strategy='median')"
      ]
     },
     "execution_count": 22,
     "metadata": {},
     "output_type": "execute_result"
    }
   ],
   "source": [
    "from sklearn.impute import SimpleImputer\n",
    "\n",
    "imputer = SimpleImputer(missing_values=np.nan, strategy='median')\n",
    "imputer.fit(trainData[featureColumn])\n"
   ]
  },
  {
   "cell_type": "code",
   "execution_count": 23,
   "id": "aggressive-million",
   "metadata": {},
   "outputs": [],
   "source": [
    "trainData[featureColumn] = imputer.transform(trainData[featureColumn])\n",
    "testData[featureColumn] = imputer.transform(testData[featureColumn])\n",
    "validationData[featureColumn] = imputer.transform(validationData[featureColumn])"
   ]
  },
  {
   "cell_type": "code",
   "execution_count": 24,
   "id": "freelance-mobility",
   "metadata": {},
   "outputs": [
    {
     "data": {
      "text/plain": [
       "SVC(C=100, gamma=0.1, probability=True, random_state=0)"
      ]
     },
     "execution_count": 24,
     "metadata": {},
     "output_type": "execute_result"
    },
    {
     "data": {
      "text/plain": [
       "KNeighborsClassifier(n_neighbors=50)"
      ]
     },
     "execution_count": 24,
     "metadata": {},
     "output_type": "execute_result"
    },
    {
     "data": {
      "text/plain": [
       "RandomForestClassifier(class_weight={0: 10000.0, 1: 10.0}, n_estimators=10)"
      ]
     },
     "execution_count": 24,
     "metadata": {},
     "output_type": "execute_result"
    }
   ],
   "source": [
    "SVC_model = svm.SVC(kernel='rbf', random_state=0, gamma=.1, C=100, probability=True)\n",
    "KNN_model = KNeighborsClassifier(n_neighbors=50)\n",
    "RF_model = RandomForestClassifier(n_estimators=10, class_weight=dict({0:10000., 1:10.}))\n",
    "\n",
    "\n",
    "SVC_model.fit(trainData[featureColumn], trainData[labelColumn])\n",
    "KNN_model.fit(trainData[featureColumn], trainData[labelColumn])\n",
    "RF_model.fit(trainData[featureColumn], trainData[labelColumn])"
   ]
  },
  {
   "cell_type": "code",
   "execution_count": 25,
   "id": "passing-tract",
   "metadata": {},
   "outputs": [],
   "source": [
    "SVC_prediction = SVC_model.predict(testData[featureColumn])\n",
    "KNN_prediction = KNN_model.predict(testData[featureColumn])\n",
    "RF_prediction  = RF_model.predict(testData[featureColumn])"
   ]
  },
  {
   "cell_type": "code",
   "execution_count": 26,
   "id": "threaded-developer",
   "metadata": {},
   "outputs": [
    {
     "data": {
      "text/plain": [
       "0.8980891719745223"
      ]
     },
     "execution_count": 26,
     "metadata": {},
     "output_type": "execute_result"
    },
    {
     "data": {
      "text/plain": [
       "0.910828025477707"
      ]
     },
     "execution_count": 26,
     "metadata": {},
     "output_type": "execute_result"
    },
    {
     "data": {
      "text/plain": [
       "0.8853503184713376"
      ]
     },
     "execution_count": 26,
     "metadata": {},
     "output_type": "execute_result"
    }
   ],
   "source": [
    "accuracy_score(SVC_prediction, testData[labelColumn])\n",
    "accuracy_score(KNN_prediction, testData[labelColumn])\n",
    "accuracy_score(RF_prediction, testData[labelColumn])"
   ]
  },
  {
   "cell_type": "code",
   "execution_count": 27,
   "id": "aging-factory",
   "metadata": {},
   "outputs": [
    {
     "data": {
      "text/plain": [
       "array([[139,  12],\n",
       "       [  4,   2]])"
      ]
     },
     "execution_count": 27,
     "metadata": {},
     "output_type": "execute_result"
    },
    {
     "data": {
      "text/plain": [
       "array([[143,  14],\n",
       "       [  0,   0]])"
      ]
     },
     "execution_count": 27,
     "metadata": {},
     "output_type": "execute_result"
    },
    {
     "data": {
      "text/plain": [
       "array([[138,  13],\n",
       "       [  5,   1]])"
      ]
     },
     "execution_count": 27,
     "metadata": {},
     "output_type": "execute_result"
    }
   ],
   "source": [
    "confusion_matrix(SVC_prediction, testData[labelColumn])\n",
    "confusion_matrix(KNN_prediction, testData[labelColumn])\n",
    "confusion_matrix(RF_prediction, testData[labelColumn])"
   ]
  },
  {
   "cell_type": "code",
   "execution_count": 28,
   "id": "operating-provincial",
   "metadata": {},
   "outputs": [
    {
     "name": "stdout",
     "output_type": "stream",
     "text": [
      "              precision    recall  f1-score   support\n",
      "\n",
      "         0.0       0.97      0.92      0.95       151\n",
      "         1.0       0.14      0.33      0.20         6\n",
      "\n",
      "    accuracy                           0.90       157\n",
      "   macro avg       0.56      0.63      0.57       157\n",
      "weighted avg       0.94      0.90      0.92       157\n",
      "\n",
      "              precision    recall  f1-score   support\n",
      "\n",
      "         0.0       1.00      0.91      0.95       157\n",
      "         1.0       0.00      0.00      0.00         0\n",
      "\n",
      "    accuracy                           0.91       157\n",
      "   macro avg       0.50      0.46      0.48       157\n",
      "weighted avg       1.00      0.91      0.95       157\n",
      "\n",
      "              precision    recall  f1-score   support\n",
      "\n",
      "         0.0       0.97      0.91      0.94       151\n",
      "         1.0       0.07      0.17      0.10         6\n",
      "\n",
      "    accuracy                           0.89       157\n",
      "   macro avg       0.52      0.54      0.52       157\n",
      "weighted avg       0.93      0.89      0.91       157\n",
      "\n"
     ]
    },
    {
     "name": "stderr",
     "output_type": "stream",
     "text": [
      "/opt/conda/lib/python3.8/site-packages/sklearn/metrics/_classification.py:1221: UndefinedMetricWarning: Recall and F-score are ill-defined and being set to 0.0 in labels with no true samples. Use `zero_division` parameter to control this behavior.\n",
      "  _warn_prf(average, modifier, msg_start, len(result))\n"
     ]
    }
   ],
   "source": [
    "print(classification_report(SVC_prediction,  testData[labelColumn]))\n",
    "print(classification_report(KNN_prediction,  testData[labelColumn]))\n",
    "print(classification_report(RF_prediction,  testData[labelColumn]))"
   ]
  },
  {
   "cell_type": "markdown",
   "id": "equipped-approach",
   "metadata": {},
   "source": [
    "#### SVM SVC ROC curve analysis"
   ]
  },
  {
   "cell_type": "code",
   "execution_count": 29,
   "id": "virtual-pound",
   "metadata": {},
   "outputs": [
    {
     "name": "stdout",
     "output_type": "stream",
     "text": [
      "Area under the ROC curve : 0.685315\n"
     ]
    }
   ],
   "source": [
    "SVC_prediction_probs = SVC_model.predict_proba(testData[featureColumn])\n",
    "fpr, tpr, thresholds = roc_curve(testData[labelColumn], SVC_prediction_probs[:, 1])\n",
    "roc_auc = auc(fpr, tpr)\n",
    "print(\"Area under the ROC curve : %f\" % roc_auc)"
   ]
  },
  {
   "cell_type": "code",
   "execution_count": 30,
   "id": "christian-kansas",
   "metadata": {},
   "outputs": [
    {
     "data": {
      "text/plain": [
       "[<matplotlib.lines.Line2D at 0x7ff89f5b2970>]"
      ]
     },
     "execution_count": 30,
     "metadata": {},
     "output_type": "execute_result"
    },
    {
     "data": {
      "text/plain": [
       "[<matplotlib.lines.Line2D at 0x7ff89f5b2df0>]"
      ]
     },
     "execution_count": 30,
     "metadata": {},
     "output_type": "execute_result"
    },
    {
     "data": {
      "text/plain": [
       "(0.0, 1.0)"
      ]
     },
     "execution_count": 30,
     "metadata": {},
     "output_type": "execute_result"
    },
    {
     "data": {
      "text/plain": [
       "(0.0, 1.0)"
      ]
     },
     "execution_count": 30,
     "metadata": {},
     "output_type": "execute_result"
    },
    {
     "data": {
      "text/plain": [
       "Text(0.5, 0, 'False Positive Rate')"
      ]
     },
     "execution_count": 30,
     "metadata": {},
     "output_type": "execute_result"
    },
    {
     "data": {
      "text/plain": [
       "Text(0, 0.5, 'True Positive Rate')"
      ]
     },
     "execution_count": 30,
     "metadata": {},
     "output_type": "execute_result"
    },
    {
     "data": {
      "text/plain": [
       "Text(0.5, 1.0, 'Receiver operating characteristic')"
      ]
     },
     "execution_count": 30,
     "metadata": {},
     "output_type": "execute_result"
    },
    {
     "data": {
      "text/plain": [
       "<matplotlib.legend.Legend at 0x7ff89f5b2b80>"
      ]
     },
     "execution_count": 30,
     "metadata": {},
     "output_type": "execute_result"
    },
    {
     "data": {
      "image/png": "[encoded data removed]",
      "text/plain": [
       "<Figure size 432x288 with 1 Axes>"
      ]
     },
     "metadata": {
      "needs_background": "light"
     },
     "output_type": "display_data"
    }
   ],
   "source": [
    "# Plot ROC curve\n",
    "import pylab as pl\n",
    "pl.clf()\n",
    "pl.plot(fpr, tpr, label='ROC curve (area = %0.2f)' % roc_auc)\n",
    "pl.plot([0, 1], [0, 1], 'k--')\n",
    "pl.xlim([0.0, 1.0])\n",
    "pl.ylim([0.0, 1.0])\n",
    "pl.xlabel('False Positive Rate')\n",
    "pl.ylabel('True Positive Rate')\n",
    "pl.title('Receiver operating characteristic')\n",
    "pl.legend(loc=\"lower right\")\n",
    "pl.show()"
   ]
  },
  {
   "cell_type": "code",
   "execution_count": null,
   "id": "endangered-class",
   "metadata": {},
   "outputs": [],
   "source": []
  },
  {
   "cell_type": "code",
   "execution_count": null,
   "id": "satisfactory-horse",
   "metadata": {},
   "outputs": [],
   "source": []
  }
 ],
 "metadata": {
  "kernelspec": {
   "display_name": "Python 3",
   "language": "python",
   "name": "python3"
  },
  "language_info": {
   "codemirror_mode": {
    "name": "ipython",
    "version": 3
   },
   "file_extension": ".py",
   "mimetype": "text/x-python",
   "name": "python",
   "nbconvert_exporter": "python",
   "pygments_lexer": "ipython3",
   "version": "3.8.5"
  }
 },
 "nbformat": 4,
 "nbformat_minor": 5
}
